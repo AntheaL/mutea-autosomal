{
 "cells": [
  {
   "cell_type": "code",
   "execution_count": 35,
   "metadata": {
    "collapsed": false
   },
   "outputs": [],
   "source": [
    "%run params.py\n",
    "\n",
    "import pandas as pd\n",
    "from plotting_functions import *\n",
    "import numpy as np\n",
    "\n",
    "\n",
    "lobref = pd.read_csv(os.path.join(DATAPATH, \"ref\", \"lobstr_v3.0.2_hg19_ref_nochr.bed.gz\"), usecols=range(4),\n",
    "                     names=[\"chrom\",\"start\",\"end\",\"period\"], sep=\"\\t\")\n",
    "\n",
    "data = LoadMLData(os.path.join(DATAPATH, \"autosomal_estimates/perlocus\", \"autosomal_estimates_ml_filtered_v2.bed.gz\"))\n",
    "sdata = pd.read_csv(os.path.join(DATAPATH, \"autosomal_estimates/perlocus\", \"autosomal_stutter_ml_v2.bed.gz\"), names=[\"chrom\",\"start\",\"end\",\"up\",\"down\",\"p\"], sep=\"\\t\")\n",
    "zdata = pd.read_csv(os.path.join(DATAPATH, \"constraint\", \"autosomal_perlocus_estimates.bed\"))"
   ]
  },
  {
   "cell_type": "code",
   "execution_count": 48,
   "metadata": {
    "collapsed": true
   },
   "outputs": [],
   "source": [
    "data[\"chrom\"] = data[\"chrom\"].apply(str)\n",
    "data[\"start\"] = data[\"start\"].apply(int)\n",
    "data[\"end\"] = data[\"end\"].apply(int)\n",
    "sdata[\"chrom\"] = sdata[\"chrom\"].apply(str)\n",
    "sdata[\"start\"] = sdata[\"start\"].apply(int)\n",
    "sdata[\"end\"] = sdata[\"end\"].apply(int)\n",
    "zdata[\"chrom\"] = zdata[\"chrom\"].apply(str)\n",
    "zdata[\"start\"] = zdata[\"start\"].apply(int)\n",
    "zdata[\"end\"] = zdata[\"end\"].apply(int)\n",
    "lobref[\"chrom\"] = lobref[\"chrom\"].apply(str)\n",
    "lobref[\"start\"] = lobref[\"start\"].apply(int)\n",
    "lobref[\"end\"] = lobref[\"end\"].apply(int)"
   ]
  },
  {
   "cell_type": "code",
   "execution_count": 50,
   "metadata": {
    "collapsed": true
   },
   "outputs": [],
   "source": [
    "suppdata = pd.merge(data, sdata, on=[\"chrom\",\"start\",\"end\"])\n",
    "suppdata = pd.merge(suppdata, lobref, on=[\"chrom\",\"start\",\"end\"])\n",
    "suppdata = pd.merge(suppdata, zdata, on=[\"chrom\",\"start\",\"end\"], how=\"outer\")"
   ]
  },
  {
   "cell_type": "code",
   "execution_count": 51,
   "metadata": {
    "collapsed": false
   },
   "outputs": [],
   "source": [
    "# Small changes\n",
    "suppdata[\"#chrom\"] = suppdata[\"chrom\"]\n",
    "suppdata[\"numsamples_ml\"] = suppdata[\"numsamples_ml\"].apply(int)"
   ]
  },
  {
   "cell_type": "code",
   "execution_count": 53,
   "metadata": {
    "collapsed": false
   },
   "outputs": [],
   "source": [
    "columns = [\"#chrom\",\"start\",\"end\",\"est_logmu_ml\",\"est_beta_eff_ml\",\"est_beta_ml\", \\\n",
    "          \"est_pgeom_ml\", \"stderr_ml\", \"numsamples_ml\", \\\n",
    "          \"up\", \"down\", \"p\", \\\n",
    "          \"period\", \"motif\",\"uninterrupted_length\", \\\n",
    "          \"pred_mu_1\", \"pred_mu_se_1\", \"zscore_1\", \\\n",
    "          \"pred_mu_2\", \"pred_mu_se_2\", \"zscore_2\", \"filter1\"]\n",
    "suppdata[columns].to_csv(os.path.join(DATAPATH, \"suppdata\", \"Gymrek_etal_SupplementalData1.bed\"), sep=\"\\t\", index=False)"
   ]
  },
  {
   "cell_type": "code",
   "execution_count": 54,
   "metadata": {
    "collapsed": false
   },
   "outputs": [
    {
     "data": {
      "text/plain": [
       "(1251510, 30)"
      ]
     },
     "execution_count": 54,
     "metadata": {},
     "output_type": "execute_result"
    }
   ],
   "source": [
    "suppdata.shape"
   ]
  }
 ],
 "metadata": {
  "kernelspec": {
   "display_name": "Python 2",
   "language": "python",
   "name": "python2"
  },
  "language_info": {
   "codemirror_mode": {
    "name": "ipython",
    "version": 2
   },
   "file_extension": ".py",
   "mimetype": "text/x-python",
   "name": "python",
   "nbconvert_exporter": "python",
   "pygments_lexer": "ipython2",
   "version": "2.7.10"
  }
 },
 "nbformat": 4,
 "nbformat_minor": 0
}
