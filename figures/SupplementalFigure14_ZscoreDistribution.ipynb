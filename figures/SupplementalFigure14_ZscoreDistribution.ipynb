{
 "cells": [
  {
   "cell_type": "code",
   "execution_count": 6,
   "metadata": {
    "collapsed": false
   },
   "outputs": [
    {
     "name": "stdout",
     "output_type": "stream",
     "text": [
      "Populating the interactive namespace from numpy and matplotlib\n"
     ]
    },
    {
     "name": "stderr",
     "output_type": "stream",
     "text": [
      "WARNING: pylab import has clobbered these variables: ['std', 'random']\n",
      "`%matplotlib` prevents importing * from pylab and numpy\n"
     ]
    }
   ],
   "source": [
    "%pylab inline\n",
    "%run params.py\n",
    "\n",
    "import matplotlib.pyplot as plt\n",
    "import pandas as pd\n",
    "import random\n",
    "import os\n",
    "import matplotlib as mpl\n",
    "mpl.rcParams['pdf.fonttype'] = 42\n",
    "from plotting_functions import *"
   ]
  },
  {
   "cell_type": "code",
   "execution_count": 10,
   "metadata": {
    "collapsed": false
   },
   "outputs": [
    {
     "data": {
      "image/png": "[encoded data removed]",
      "text/plain": [
       "<matplotlib.figure.Figure at 0x112b31a50>"
      ]
     },
     "metadata": {},
     "output_type": "display_data"
    }
   ],
   "source": [
    "dataset = pd.read_csv(os.path.join(DATAPATH, \"constraint\", \"autosomal_perlocus_estimates.bed\"))\n",
    "\n",
    "fig = plt.figure()\n",
    "ax = fig.add_subplot(111)\n",
    "bins = np.arange(-5, 5, 0.2)\n",
    "ax.hist(dataset[dataset[\"filter1\"]][\"zscore_1\"], bins=bins, edgecolor=\"white\", color=\"cyan\", normed=True, alpha=0.5);\n",
    "ax.hist(dataset[~dataset[\"filter1\"]][\"zscore_1\"], bins=bins, edgecolor=\"white\", color=\"black\", normed=True, alpha=0.5);\n",
    "ax.set_ylim(bottom=0, top=0.5)\n",
    "\n",
    "# Fit normal - unfiltered\n",
    "#mu = np.mean(dataset[~dataset[\"filter1\"]][\"zscore_1\"])\n",
    "#std = np.sqrt(np.var(dataset[~dataset[\"filter1\"]][\"zscore_1\"]))\n",
    "mu = 0\n",
    "std = 1\n",
    "xvals = np.linspace(-4, 4, 100)\n",
    "p = scipy.stats.norm.pdf(xvals, mu, std)\n",
    "ax.plot(xvals, p, linewidth=2, color=\"black\")\n",
    "\n",
    "ax.spines['right'].set_visible(False)\n",
    "ax.spines['top'].set_visible(False)\n",
    "ax.yaxis.set_ticks_position('left')\n",
    "ax.xaxis.set_ticks_position('bottom')\n",
    "ax.set_xlabel(\"Zscore\", size=15)\n",
    "ax.set_ylabel(\"Frequency\", size=15)\n",
    "ax.set_xticklabels(ax.get_xticks(), size=12)\n",
    "ax.set_yticklabels(ax.get_yticks(), size=12);\n",
    "fig.savefig(os.path.join(PLOTDIR, \"SupplementalFigure14_ZscoreDistribution.pdf\"))"
   ]
  }
 ],
 "metadata": {
  "kernelspec": {
   "display_name": "Python 2",
   "language": "python",
   "name": "python2"
  },
  "language_info": {
   "codemirror_mode": {
    "name": "ipython",
    "version": 2
   },
   "file_extension": ".py",
   "mimetype": "text/x-python",
   "name": "python",
   "nbconvert_exporter": "python",
   "pygments_lexer": "ipython2",
   "version": "2.7.10"
  }
 },
 "nbformat": 4,
 "nbformat_minor": 0
}
