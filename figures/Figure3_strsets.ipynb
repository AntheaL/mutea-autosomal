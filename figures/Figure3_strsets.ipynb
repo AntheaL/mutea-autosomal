{
 "cells": [
  {
   "cell_type": "code",
   "execution_count": 416,
   "metadata": {
    "collapsed": false
   },
   "outputs": [
    {
     "name": "stdout",
     "output_type": "stream",
     "text": [
      "Populating the interactive namespace from numpy and matplotlib\n"
     ]
    },
    {
     "name": "stderr",
     "output_type": "stream",
     "text": [
      "WARNING: pylab import has clobbered these variables: ['colors', 'box', 'random']\n",
      "`%matplotlib` prevents importing * from pylab and numpy\n"
     ]
    }
   ],
   "source": [
    "%pylab inline\n",
    "%run params.py\n",
    "\n",
    "import matplotlib.pyplot as plt\n",
    "from matplotlib.patches import Polygon\n",
    "\n",
    "import pandas as pd\n",
    "import random\n",
    "import os\n",
    "from scipy.stats import pearsonr\n",
    "import matplotlib as mpl\n",
    "mpl.rcParams['pdf.fonttype'] = 42\n",
    "from plotting_functions import *\n",
    "from scipy.stats import ks_2samp\n",
    "import random"
   ]
  },
  {
   "cell_type": "code",
   "execution_count": 417,
   "metadata": {
    "collapsed": false
   },
   "outputs": [],
   "source": [
    "dataset = pd.read_csv(os.path.join(DATAPATH, \"constraint\", \"autosomal_perlocus_estimates.bed\"))"
   ]
  },
  {
   "cell_type": "code",
   "execution_count": 418,
   "metadata": {
    "collapsed": true
   },
   "outputs": [],
   "source": [
    "strsets = [\"lobSTR_ref_GRCh37_intergenic.bed\",\n",
    "           \"lobSTR_ref_GRCh37_intron.bed\",\n",
    "           \"lobSTR_ref_GRCh37_3utr.bed\",\n",
    "           \"lobSTR_ref_GRCh37_5utr.bed\",\n",
    "           \"lobSTR_ref_GRCh37_coding.bed\",\n",
    "          \"lobSTR_ref_GRCh37_missenseconstrained.bed\", \"eSTRs.bed\"]\n",
    "colors = [\"gray\",\"darkgray\",\"green\",\"lightgreen\",\"blue\",\"cyan\",\"pink\"]"
   ]
  },
  {
   "cell_type": "markdown",
   "metadata": {},
   "source": [
    "# 3D STRsets"
   ]
  },
  {
   "cell_type": "code",
   "execution_count": 419,
   "metadata": {
    "collapsed": false
   },
   "outputs": [
    {
     "data": {
      "image/png": "[encoded data removed]",
      "text/plain": [
       "<matplotlib.figure.Figure at 0x11ae95b90>"
      ]
     },
     "metadata": {},
     "output_type": "display_data"
    }
   ],
   "source": [
    "# Enrichment by bin\n",
    "perc = 10\n",
    "col = \"zscore_1\"\n",
    "zbins = np.percentile(dataset[col], np.arange(0, 101, perc))\n",
    "midpt = min([i for i in range(len(zbins)) if zbins[i] > 0])\n",
    "\n",
    "fig = plt.figure()\n",
    "ax = fig.add_subplot(111)\n",
    "\n",
    "# For each set, get fold enrichment in each bin\n",
    "xvals = np.arange(len(zbins)-1)  # the x locations for the groups\n",
    "width = 0.10       # the width of the bars\n",
    "ind = 0\n",
    "labels = []\n",
    "for strset in strsets:\n",
    "    vals = []\n",
    "    label = strset.split(\".bed\")[0].split(\"_\")[-1]\n",
    "    if label == \"IDgenes\":\n",
    "        names = [\"chrom\",\"start\",\"end\",\"gene\"]\n",
    "    else: names = [\"chrom\",\"start\",\"end\"]\n",
    "    if \"missense\" in label: label = \"missense\"\n",
    "    setdata = pd.read_csv(os.path.join(DATAPATH, \"strsets\", strset+\".gz\"), sep=\"\\t\", names=names)\n",
    "    setdata = pd.merge(setdata, dataset, on=[\"chrom\",\"start\"]).drop_duplicates()\n",
    "    for i in range(len(zbins)-1):\n",
    "        lb = zbins[i]\n",
    "        ub = zbins[i+1]\n",
    "        inbin = setdata[(setdata[col]>=lb) & (setdata[col]<ub)].shape[0]\n",
    "        outbin = setdata.shape[0] - inbin\n",
    "        enrich = (inbin*1.0/perc) / (outbin*1.0/(100-perc))\n",
    "        vals.append(enrich)\n",
    "    ax.bar(xvals + ind*width, vals, width=width, color=colors[ind], align=\"center\")\n",
    "    ind += 1\n",
    "ax.spines['right'].set_visible(False)\n",
    "ax.spines['top'].set_visible(False)\n",
    "ax.yaxis.set_ticks_position('left')\n",
    "ax.xaxis.set_ticks_position('bottom');\n",
    "ax.set_xticks(map(lambda x: x+0.5, range(len(zbins)-1)))\n",
    "ax.set_xticklabels(range(1, len(zbins)), size=12);\n",
    "ax.set_yticklabels(ax.get_yticks(), size=12);\n",
    "ax.set_xlim(left=-0.1, right=len(vals)+0.1)\n",
    "ax.axhline(1, linestyle=\"dashed\", color=\"gray\");\n",
    "ax.axvline(midpt-1.2, linestyle=\"dashed\", color=\"gray\")\n",
    "ax.set_xlabel(\"Constraint bin\", size=15);\n",
    "ax.set_ylabel(\"Enrichment\", size=15);\n",
    "fig.savefig(os.path.join(PLOTDIR, \"Figure3_ConstraintBins.pdf\"))"
   ]
  },
  {
   "cell_type": "markdown",
   "metadata": {},
   "source": [
    "# 3E Expected by class"
   ]
  },
  {
   "cell_type": "code",
   "execution_count": 420,
   "metadata": {
    "collapsed": false
   },
   "outputs": [
    {
     "data": {
      "image/png": "[encoded data removed]",
      "text/plain": [
       "<matplotlib.figure.Figure at 0x11e422fd0>"
      ]
     },
     "metadata": {},
     "output_type": "display_data"
    }
   ],
   "source": [
    "boxdata = []\n",
    "labels = []\n",
    "\n",
    "# For each set, get fold enrichment in each bin\n",
    "\n",
    "for strset in strsets:\n",
    "    vals = []\n",
    "    label = strset.split(\".bed\")[0].split(\"_\")[-1]\n",
    "    labels.append(label)\n",
    "    names = [\"chrom\",\"start\",\"end\"]\n",
    "    setdata = pd.read_csv(os.path.join(DATAPATH, \"strsets\", strset+\".gz\"), sep=\"\\t\", names=names)\n",
    "    setdata = pd.merge(setdata, dataset, on=[\"chrom\",\"start\"]).drop_duplicates()\n",
    "    boxdata.append(setdata[\"pred_mu_1\"])\n",
    "    \n",
    "fig = plt.figure()\n",
    "ax = fig.add_subplot(111)\n",
    "bp = ax.boxplot(boxdata, sym=\"\");\n",
    "\n",
    "plt.setp(bp['boxes'], color='black', lw=2)\n",
    "plt.setp(bp['whiskers'], color='black', lw=2)\n",
    "\n",
    "for i in range(len(labels)):\n",
    "    box = bp['boxes'][i]\n",
    "    boxX = []\n",
    "    boxY = []\n",
    "    for j in range(5):\n",
    "        boxX.append(box.get_xdata()[j])\n",
    "        boxY.append(box.get_ydata()[j])\n",
    "    boxCoords = list(zip(boxX, boxY))\n",
    "    boxPolygon = Polygon(boxCoords, facecolor=colors[i])\n",
    "    ax.add_patch(boxPolygon)\n",
    "    # Now draw the median lines back over what we just filled in\n",
    "    med = bp['medians'][i]\n",
    "    medianX = []\n",
    "    medianY = []\n",
    "    for j in range(2):\n",
    "        medianX.append(med.get_xdata()[j])\n",
    "        medianY.append(med.get_ydata()[j])\n",
    "        ax.plot(medianX, medianY, 'k')\n",
    "        \n",
    "ax.set_xticklabels(labels, rotation=90, size=12);\n",
    "ax.spines['right'].set_visible(False)\n",
    "ax.spines['top'].set_visible(False)\n",
    "ax.yaxis.set_ticks_position('left')\n",
    "ax.xaxis.set_ticks_position('bottom');\n",
    "ax.set_yticklabels(ax.get_yticks(), size=12);\n",
    "ax.set_ylabel(\"Predicted log10 mu\", size=15);\n",
    "fig.savefig(os.path.join(PLOTDIR, \"Figure3_ExpectedByClass.pdf\"))"
   ]
  }
 ],
 "metadata": {
  "kernelspec": {
   "display_name": "Python 2",
   "language": "python",
   "name": "python2"
  },
  "language_info": {
   "codemirror_mode": {
    "name": "ipython",
    "version": 2
   },
   "file_extension": ".py",
   "mimetype": "text/x-python",
   "name": "python",
   "nbconvert_exporter": "python",
   "pygments_lexer": "ipython2",
   "version": "2.7.10"
  }
 },
 "nbformat": 4,
 "nbformat_minor": 0
}
