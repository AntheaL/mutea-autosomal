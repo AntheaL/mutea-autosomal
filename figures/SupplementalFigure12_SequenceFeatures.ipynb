{
 "cells": [
  {
   "cell_type": "code",
   "execution_count": 44,
   "metadata": {
    "collapsed": false
   },
   "outputs": [
    {
     "name": "stdout",
     "output_type": "stream",
     "text": [
      "Populating the interactive namespace from numpy and matplotlib\n"
     ]
    },
    {
     "name": "stderr",
     "output_type": "stream",
     "text": [
      "WARNING: pylab import has clobbered these variables: ['xticks', 'f', 'yticks', 'random', 'e']\n",
      "`%matplotlib` prevents importing * from pylab and numpy\n"
     ]
    }
   ],
   "source": [
    "%pylab inline\n",
    "%run params.py\n",
    "\n",
    "import matplotlib.pyplot as plt\n",
    "import pandas as pd\n",
    "import random\n",
    "import os\n",
    "import matplotlib as mpl\n",
    "mpl.rcParams['pdf.fonttype'] = 42\n",
    "from plotting_functions import *"
   ]
  },
  {
   "cell_type": "code",
   "execution_count": 45,
   "metadata": {
    "collapsed": false
   },
   "outputs": [],
   "source": [
    "data = LoadMLData(os.path.join(DATAPATH, \"autosomal_estimates/perlocus\", \"autosomal_estimates_ml_filtered.bed.gz\"))\n",
    "features = pd.read_csv(os.path.join(DATAPATH, \"constraint\", \"lobSTR_ref_GRCh37_properties_filtered.tab.gz\"), sep=\"\\t\").drop_duplicates()\n",
    "features[\"period\"] = features[\"motif\"].apply(len)\n",
    "data = pd.merge(data, features, on=[\"chrom\",\"start\",\"end\"])"
   ]
  },
  {
   "cell_type": "code",
   "execution_count": 46,
   "metadata": {
    "collapsed": false
   },
   "outputs": [],
   "source": [
    "data = data[(data[\"stderr_ml\"]>=0)]"
   ]
  },
  {
   "cell_type": "code",
   "execution_count": 47,
   "metadata": {
    "collapsed": false
   },
   "outputs": [
    {
     "data": {
      "text/plain": [
       "Index([u'chrom', u'start', u'end', u'est_logmu_ml', u'est_beta_eff_ml',\n",
       "       u'est_beta_ml', u'est_pgeom_ml', u'stderr_ml', u'numsamples_ml',\n",
       "       u'motif', u'length', u'uninterrupted_length', u'reptiming', u'score',\n",
       "       u'GC', u'entropy', u'filter', u'period'],\n",
       "      dtype='object')"
      ]
     },
     "execution_count": 47,
     "metadata": {},
     "output_type": "execute_result"
    }
   ],
   "source": [
    "data.columns"
   ]
  },
  {
   "cell_type": "code",
   "execution_count": 48,
   "metadata": {
    "collapsed": false
   },
   "outputs": [],
   "source": [
    "# Get mu by features\n",
    "PERIODS = range(1, 7)\n",
    "byperiod = {}\n",
    "for period in range(1, 7):\n",
    "    byperiod[period] = {\"mu\": np.mean(data[data[\"period\"]==period][\"est_logmu_ml\"]),\n",
    "                        \"beta\": np.mean(data[data[\"period\"]==period][\"est_logmu_ml\"]),\n",
    "                        \"pgeom\": np.mean(data[data[\"period\"]==period][\"est_pgeom_ml\"])}\n",
    "\n",
    "fdata = {}\n",
    "\n",
    "# Length\n",
    "lendata = []\n",
    "lbins = [\"0.20\",\"21.30\",\"31.40\",\"41.50\",\"51.60\",\"61.70\"]\n",
    "fname = \"uninterrupted_length\"\n",
    "for l in lbins:\n",
    "    ldict = {}\n",
    "    lb, ub = map(float, l.split(\".\"))\n",
    "    for p in PERIODS:\n",
    "        ldict[p] = {\"mu\": np.mean(data[(data[\"period\"]==p) & (data[fname]>lb) & (data[fname]<=ub)][\"est_logmu_ml\"]),\n",
    "                    \"muerr\": np.var(data[(data[\"period\"]==p) & (data[fname]>lb) & (data[fname]<=ub)][\"est_logmu_ml\"]),\n",
    "                   \"beta\": np.mean(data[(data[\"period\"]==p) & (data[fname]>lb) & (data[fname]<=ub)][\"est_beta_ml\"]),\n",
    "                   \"pgeom\": np.mean(data[(data[\"period\"]==p) & (data[fname]>lb) & (data[fname]<=ub)][\"est_pgeom_ml\"])}\n",
    "    lendata.append((l, ldict))\n",
    "fdata[fname] = lendata\n",
    "\n",
    "# Recomb\n",
    "#rcdata = []\n",
    "#rbins = [\"0.1\", \"1.2\", \"2.10\", \"10.20\"]\n",
    "#fname = \"recomb\"\n",
    "#for r in rbins:\n",
    "#    rdict = {}\n",
    "#    lb, ub = map(float, r.split(\".\"))\n",
    "#    for p in PERIODS:\n",
    "#        rdict[p] = {\"mu\": np.mean(data[(data[\"period\"]==p) & (data[fname]>lb) & (data[fname]<=ub)][\"est_logmu_ml\"]),\n",
    "#                    \"muerr\": np.var(data[(data[\"period\"]==p) & (data[fname]>lb) & (data[fname]<=ub)][\"est_logmu_ml\"]),\n",
    "#                   \"beta\": np.mean(data[(data[\"period\"]==p) & (data[fname]>lb) & (data[fname]<=ub)][\"est_beta_ml\"]),\n",
    "#                   \"pgeom\": np.mean(data[(data[\"period\"]==p) & (data[fname]>lb) & (data[fname]<=ub)][\"est_pgeom_ml\"])}\n",
    "\n",
    "#    rcdata.append((r, rdict))\n",
    "#fdata[fname] = rcdata\n",
    "\n",
    "# ToR\n",
    "mdata = []\n",
    "mbins = [\"-2.-1\", \"-1.0\", \"0.1\", \"1.2\"]\n",
    "fname = \"reptiming\"\n",
    "for m in mbins:\n",
    "    mdict = {}\n",
    "    lb, ub = map(float, m.split(\".\"))\n",
    "    for p in PERIODS:\n",
    "        mdict[p] = {\"mu\": np.mean(data[(data[\"period\"]==p) & (data[fname]>lb) & (data[fname]<=ub)][\"est_logmu_ml\"]),\n",
    "                    \"muerr\": np.var(data[(data[\"period\"]==p) & (data[fname]>lb) & (data[fname]<=ub)][\"est_logmu_ml\"]),\n",
    "                   \"beta\": np.mean(data[(data[\"period\"]==p) & (data[fname]>lb) & (data[fname]<=ub)][\"est_beta_ml\"]),\n",
    "                   \"pgeom\": np.mean(data[(data[\"period\"]==p) & (data[fname]>lb) & (data[fname]<=ub)][\"est_pgeom_ml\"])}\n",
    "\n",
    "    mdata.append((m, mdict))\n",
    "fdata[\"reptiming\"] = mdata\n",
    "\n",
    "# GC\n",
    "gcdata = []\n",
    "gbins = [\"20.40\", \"40.60\", \"60.80\"]\n",
    "fname = \"GC\"\n",
    "for g in gbins:\n",
    "    gdict = {}\n",
    "    lb, ub = map(lambda x: float(x)/100, g.split(\".\"))\n",
    "    for p in PERIODS:\n",
    "        gdict[p] = {\"mu\": np.mean(data[(data[\"period\"]==p) & (data[fname]>lb) & (data[fname]<=ub)][\"est_logmu_ml\"]),\n",
    "                    \"muerr\": np.var(data[(data[\"period\"]==p) & (data[fname]>lb) & (data[fname]<=ub)][\"est_logmu_ml\"]),\n",
    "                   \"beta\": np.mean(data[(data[\"period\"]==p) & (data[fname]>lb) & (data[fname]<=ub)][\"est_beta_ml\"]),\n",
    "                   \"pgeom\": np.mean(data[(data[\"period\"]==p) & (data[fname]>lb) & (data[fname]<=ub)][\"est_pgeom_ml\"])}\n",
    "\n",
    "    gcdata.append((g, gdict))\n",
    "fdata[fname] = gcdata\n",
    "\n",
    "# entropy\n",
    "edata = []\n",
    "ebins = [\"0.20\", \"20.30\", \"30.40\"]\n",
    "fname = \"entropy\"\n",
    "for e in ebins:\n",
    "    edict = {}\n",
    "    lb, ub = map(lambda x: float(x)/20, e.split(\".\"))\n",
    "    for p in PERIODS:\n",
    "        edict[p] = {\"mu\": np.mean(data[(data[\"period\"]==p) & (data[fname]>lb) & (data[fname]<=ub)][\"est_logmu_ml\"]),\n",
    "                    \"muerr\": np.var(data[(data[\"period\"]==p) & (data[fname]>lb) & (data[fname]<=ub)][\"est_logmu_ml\"]),\n",
    "                   \"beta\": np.mean(data[(data[\"period\"]==p) & (data[fname]>lb) & (data[fname]<=ub)][\"est_beta_ml\"]),\n",
    "                   \"pgeom\": np.mean(data[(data[\"period\"]==p) & (data[fname]>lb) & (data[fname]<=ub)][\"est_pgeom_ml\"])}\n",
    "\n",
    "    edata.append((e, edict))\n",
    "fdata[\"entropy\"] = edata\n",
    "\n",
    "# Motif\n",
    "motifdata = []\n",
    "motifs = [\"A/AT/AAT/AAAT/AAAAT/AAAAAT\",\n",
    "         \"A/AC/AAC/AAAC/AAAAC/AAAAAC\",\n",
    "         \"A/AG/AAG/AAAG/AAAAG/AAAAAG\",\n",
    "         \"C/CG/CCG/CCCG/CCCCG/CCCCCG\"]\n",
    "fname = \"motif\"\n",
    "for m in motifs:\n",
    "    mdict = {}\n",
    "    for p in PERIODS:\n",
    "        motif = m.split(\"/\")[p-1]\n",
    "        mdict[p] = {\"mu\": np.mean(data[(data[\"period\"]==p) & (data[fname]==motif)][\"est_logmu_ml\"]),\n",
    "                    \"muerr\": np.var(data[(data[\"period\"]==p) & (data[fname]==motif)][\"est_logmu_ml\"]),\n",
    "                   \"beta\": np.mean(data[(data[\"period\"]==p) & (data[fname]==motif)][\"est_beta_ml\"]),\n",
    "                   \"pgeom\": np.mean(data[(data[\"period\"]==p) & (data[fname]==motif)][\"est_pgeom_ml\"])\n",
    "        }\n",
    "    motifdata.append((m, mdict))\n",
    "fdata[\"motif\"] = motifdata"
   ]
  },
  {
   "cell_type": "code",
   "execution_count": 49,
   "metadata": {
    "collapsed": false
   },
   "outputs": [
    {
     "data": {
      "image/png": "[encoded data removed]",
      "text/plain": [
       "<matplotlib.figure.Figure at 0x1095556d0>"
      ]
     },
     "metadata": {},
     "output_type": "display_data"
    }
   ],
   "source": [
    "MINLOGMU = -9\n",
    "MAXLOGMU = -1\n",
    "MINBETA = 0\n",
    "MAXBETA = 1\n",
    "FEATURES = [\"uninterrupted_length\",\"reptiming\",\"GC\",\"entropy\",\"motif\"]\n",
    "colordict = {\n",
    "    1: \"gray\",\n",
    "    2: \"red\",\n",
    "    3: \"gold\",\n",
    "    4: \"blue\",\n",
    "    5: \"green\",\n",
    "    6: \"purple\",\n",
    "}\n",
    "\n",
    "fig = plt.figure()\n",
    "fig.set_size_inches((10, 5))\n",
    "ax = fig.add_subplot(111)\n",
    "\n",
    "yticklabels = []\n",
    "yticks = []\n",
    "\n",
    "xticks = []\n",
    "xticklabels = []\n",
    "for period in PERIODS:\n",
    "    xticks.extend(map(lambda x: x+(MAXLOGMU-MINLOGMU)*(period-1), range(MINLOGMU, MAXLOGMU)))\n",
    "    xticklabels.extend(range(MINLOGMU, MAXLOGMU))\n",
    "    \n",
    "# Separate periods\n",
    "ax.axvline(x=MINLOGMU, color=\"black\", lw=3)\n",
    "ax.axvline(x=MAXLOGMU, color=\"black\", lw=3)\n",
    "for period in PERIODS:\n",
    "    ax.axvline(x=MAXLOGMU+(period-1)*(MAXLOGMU-MINLOGMU), color=\"black\", lw=3)\n",
    "    \n",
    "ybase = 0\n",
    "ax.axhline(ybase, color=\"black\", lw=3) \n",
    "for fnum in range(len(FEATURES)):\n",
    "    ff = fdata[FEATURES[fnum]]\n",
    "    bins = map(lambda x: x[0], ff)\n",
    "    yticklabels.extend(bins)\n",
    "    yticks.extend([ybase+1+i for i in range(len(bins))])\n",
    "    for period in PERIODS:\n",
    "        for binnum in range(len(ff)):\n",
    "            m = ff[binnum][1][period][\"mu\"]\n",
    "            if m is not None and not np.isnan(m):\n",
    "                xval = m + (period-1)*(MAXLOGMU-MINLOGMU)\n",
    "                yval = ybase + binnum + 1\n",
    "                ax.scatter([xval], [yval], color=colordict[period])\n",
    "    ax.axhline(ybase+len(bins)+0.5, color=\"black\", lw=3) \n",
    "    ybase = ybase + len(bins)\n",
    "    \n",
    "# period aggregates\n",
    "for period in PERIODS:\n",
    "    ax.axvline(x=(byperiod[period][\"mu\"])+(MAXLOGMU-MINLOGMU)*(period-1), color=colordict[period], linestyle=\"dashed\")\n",
    "\n",
    "ax.set_xlim(left=MINLOGMU, right=MAXLOGMU+(MAXLOGMU-MINLOGMU)*(len(PERIODS)-1)+0.1);\n",
    "ax.set_yticks(yticks)\n",
    "ax.set_yticklabels(map(lambda x: x.replace(\".\",\"-\"),yticklabels));\n",
    "ax.set_ylim(bottom=0, top=ybase+0.5);\n",
    "ax.set_xticks(xticks);\n",
    "ax.set_xticklabels(xticklabels);\n",
    "ax.spines[\"top\"].set_visible(False);\n",
    "ax.spines[\"right\"].set_visible(False);\n",
    "ax.get_xaxis().tick_bottom()\n",
    "fig.savefig(os.path.join(PLOTDIR, \"SupplementalFigure12_seqfeatures.pdf\"))"
   ]
  },
  {
   "cell_type": "code",
   "execution_count": 50,
   "metadata": {
    "collapsed": false
   },
   "outputs": [
    {
     "name": "stdout",
     "output_type": "stream",
     "text": [
      "uninterrupted_length (0.31793072021658075, 0.0)\n",
      "reptiming (-0.038918718016026109, 2.5908244614215965e-286)\n",
      "GC (-0.057892318514101593, 0.0)\n",
      "entropy (0.0070194186779475891, 7.0559343071809425e-11)\n",
      "length (0.097829404541001377, 0.0)\n",
      "period (-0.28512451647866455, 0.0)\n",
      "score (0.225268603239727, 0.0)\n"
     ]
    }
   ],
   "source": [
    "# Get r for each feature\n",
    "for f in FEATURES+[\"length\",\"period\",'score']:\n",
    "    if f == \"motif\": continue\n",
    "    print f, scipy.stats.pearsonr(data[\"est_logmu_ml\"], data[f])"
   ]
  }
 ],
 "metadata": {
  "kernelspec": {
   "display_name": "Python 2",
   "language": "python",
   "name": "python2"
  },
  "language_info": {
   "codemirror_mode": {
    "name": "ipython",
    "version": 2
   },
   "file_extension": ".py",
   "mimetype": "text/x-python",
   "name": "python",
   "nbconvert_exporter": "python",
   "pygments_lexer": "ipython2",
   "version": "2.7.10"
  }
 },
 "nbformat": 4,
 "nbformat_minor": 0
}
