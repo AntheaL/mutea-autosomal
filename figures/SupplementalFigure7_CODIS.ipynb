{
 "cells": [
  {
   "cell_type": "code",
   "execution_count": 1,
   "metadata": {
    "collapsed": false
   },
   "outputs": [
    {
     "name": "stdout",
     "output_type": "stream",
     "text": [
      "Populating the interactive namespace from numpy and matplotlib\n"
     ]
    }
   ],
   "source": [
    "%pylab inline\n",
    "%run params.py\n",
    "\n",
    "import matplotlib.pyplot as plt\n",
    "import pandas as pd\n",
    "import random\n",
    "import os\n",
    "import matplotlib as mpl\n",
    "mpl.rcParams['pdf.fonttype'] = 42\n",
    "from plotting_functions import *"
   ]
  },
  {
   "cell_type": "code",
   "execution_count": 2,
   "metadata": {
    "collapsed": false
   },
   "outputs": [
    {
     "name": "stdout",
     "output_type": "stream",
     "text": [
      "0.417342754533\n",
      "mu: est_logmu_ml vs. lograte (0.8995992800832272, 0.00016277934937171572) 11\n"
     ]
    },
    {
     "data": {
      "text/plain": [
       "(<matplotlib.figure.Figure at 0x10feda990>,\n",
       " <matplotlib.axes._subplots.AxesSubplot at 0x10ff14050>)"
      ]
     },
     "execution_count": 2,
     "metadata": {},
     "output_type": "execute_result"
    },
    {
     "data": {
      "image/png": "[encoded data removed]",
      "text/plain": [
       "<matplotlib.figure.Figure at 0x10feda990>"
      ]
     },
     "metadata": {},
     "output_type": "display_data"
    }
   ],
   "source": [
    "cdata = LoadMLData(os.path.join(DATAPATH, \"autosomal_validation\", \"codis_estimates_ml.bed\"))\n",
    "codis = pd.read_csv(os.path.join(\"../analyses/autosomal_validation\", \"codis_published_rates_annotated.tab\"), sep=\"\\t\")\n",
    "cdata = pd.merge(cdata, codis, on=[\"chrom\",\"start\",\"end\"])\n",
    "\n",
    "cscale = np.mean(10**(cdata[\"est_logmu_ml\"]))/np.mean(10**(cdata[\"lograte\"]))\n",
    "print cscale\n",
    "cdata[\"lograte\"] = cdata[\"lograte\"] + np.log10(cscale)\n",
    "\n",
    "CompareMu(cdata, \"est_logmu_ml\",\"lograte\", figname=os.path.join(PLOTDIR,\"SupplementalFigure9_CODIS.pdf\"))"
   ]
  }
 ],
 "metadata": {
  "kernelspec": {
   "display_name": "Python 2",
   "language": "python",
   "name": "python2"
  },
  "language_info": {
   "codemirror_mode": {
    "name": "ipython",
    "version": 2
   },
   "file_extension": ".py",
   "mimetype": "text/x-python",
   "name": "python",
   "nbconvert_exporter": "python",
   "pygments_lexer": "ipython2",
   "version": "2.7.10"
  }
 },
 "nbformat": 4,
 "nbformat_minor": 0
}
