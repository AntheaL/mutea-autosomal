{
 "cells": [
  {
   "cell_type": "code",
   "execution_count": 14,
   "metadata": {
    "collapsed": false
   },
   "outputs": [
    {
     "name": "stdout",
     "output_type": "stream",
     "text": [
      "Populating the interactive namespace from numpy and matplotlib\n"
     ]
    },
    {
     "name": "stderr",
     "output_type": "stream",
     "text": [
      "WARNING: pylab import has clobbered these variables: ['exp2', 'random', 'colors', 'exp']\n",
      "`%matplotlib` prevents importing * from pylab and numpy\n"
     ]
    }
   ],
   "source": [
    "%pylab inline\n",
    "%run params.py\n",
    "\n",
    "import matplotlib.pyplot as plt\n",
    "import pandas as pd\n",
    "import random\n",
    "import os\n",
    "from scipy.stats import pearsonr\n",
    "import matplotlib as mpl\n",
    "mpl.rcParams['pdf.fonttype'] = 42\n",
    "from plotting_functions import *\n",
    "from scipy.stats import ks_2samp"
   ]
  },
  {
   "cell_type": "code",
   "execution_count": 15,
   "metadata": {
    "collapsed": true
   },
   "outputs": [],
   "source": [
    "# Load data\n",
    "dataset = pd.read_csv(os.path.join(DATAPATH, \"constraint\", \"autosomal_perlocus_estimates.bed\"))"
   ]
  },
  {
   "cell_type": "markdown",
   "metadata": {},
   "source": [
    "# 4A Expression by tissue"
   ]
  },
  {
   "cell_type": "code",
   "execution_count": 16,
   "metadata": {
    "collapsed": true
   },
   "outputs": [],
   "source": [
    "# Look at expression by tissue\n",
    "gtex = pd.read_csv(os.path.join(DATAPATH,\"strsets\",\"GTEx_Analysis_v6p_RNA-seq_RNA-SeQCv1.1.8_gene_median_rpkm.gct.gz\"),\n",
    "                  skiprows=2, sep=\"\\t\")\n",
    "exprcols = [item for item in gtex.columns if item not in [\"Description\",\"Name\"]]\n",
    "gtex[\"gene\"] = gtex[\"Description\"]\n",
    "\n",
    "setdata = pd.read_csv(os.path.join(DATAPATH, \"strsets\", \"lobSTR_ref_GRCh37_coding_genes.bed.gz\"), sep=\"\\t\", names=[\"chrom\",\"start\",\"end\",\"gene\"])\n",
    "setdata = pd.merge(setdata, dataset, on=[\"chrom\",\"start\"]).drop_duplicates()\n",
    "data = pd.merge(setdata, gtex, on=[\"gene\"])\n",
    "exprmatrix = data.loc[:,exprcols]"
   ]
  },
  {
   "cell_type": "code",
   "execution_count": 17,
   "metadata": {
    "collapsed": false
   },
   "outputs": [
    {
     "name": "stdout",
     "output_type": "stream",
     "text": [
      "Adipose - Subcutaneous 12.416 0.293094083103 275 1097\n",
      "Adipose - Visceral (Omentum) 11.938 0.163202292634 274 1094\n",
      "Adrenal Gland 11.312 -0.482507712572 273 1090\n",
      "Artery - Aorta 13.01 0.0881811229401 270 1081\n",
      "Artery - Coronary 12.8 0.328766768843 271 1086\n",
      "Artery - Tibial 13.068 0.211219427145 267 1068\n",
      "Bladder 14.4 0.016100797856 273 1089\n",
      "Brain - Amygdala 9.1088 -0.8903671841 278 1112\n",
      "Brain - Anterior cingulate cortex (BA24) 10.198 -0.887962744445 280 1120\n",
      "Brain - Caudate (basal ganglia) 9.783 -0.86357342244 279 1117\n",
      "Brain - Cerebellar Hemisphere 15.35 -1.02877021117 278 1113\n",
      "Brain - Cerebellum 15.766 -0.781475417907 279 1113\n",
      "Brain - Cortex 11.898 -0.90567667889 281 1121\n",
      "Brain - Frontal Cortex (BA9) 11.912 -0.806317234191 280 1118\n",
      "Brain - Hippocampus 9.3366 -0.710898975222 280 1117\n",
      "Brain - Hypothalamus 10.1 -0.647238121437 280 1136\n",
      "Brain - Nucleus accumbens (basal ganglia) 10.2 -0.797178656201 278 1117\n",
      "Brain - Putamen (basal ganglia) 8.871 -0.79209390878 277 1114\n",
      "Brain - Spinal cord (cervical c-1) 8.681 -0.589776386913 282 1129\n",
      "Brain - Substantia nigra 8.54 -0.62537833904 281 1121\n",
      "Breast - Mammary Tissue 13.008 0.0553464701485 277 1105\n",
      "Cells - EBV-transformed lymphocytes 14.148 -0.506620270804 263 1049\n",
      "Cells - Transformed fibroblasts 11.61 0.155245193195 259 1040\n",
      "Cervix - Ectocervix 14.094 0.0916839345481 279 1113\n",
      "Cervix - Endocervix 15.428 -0.0101321663381 278 1109\n",
      "Colon - Sigmoid 12.886 -0.204464366219 277 1108\n",
      "Colon - Transverse 11.152 -0.0299507550788 278 1112\n",
      "Esophagus - Gastroesophageal Junction 12.534 -0.131800904055 274 1095\n",
      "Esophagus - Mucosa 11.36 -0.161898230286 270 1083\n",
      "Esophagus - Muscularis 12.53 -0.195391452228 272 1089\n",
      "Fallopian Tube 14.084 0.177874881604 280 1118\n",
      "Heart - Atrial Appendage 8.985 -0.0401182110922 269 1077\n",
      "Heart - Left Ventricle 7.2406 0.387323894684 263 1050\n",
      "Kidney - Cortex 10.01 -0.220771827934 276 1105\n",
      "Liver 6.5324 -0.0888309957101 258 1032\n",
      "Lung 13.626 0.217164381283 274 1096\n",
      "Minor Salivary Gland 11.254 -0.0244844578261 279 1115\n",
      "Muscle - Skeletal 8.04 -0.0529100151035 263 1052\n",
      "Nerve - Tibial 13.974 -0.167357946164 276 1104\n",
      "Ovary 14.972 -0.0497073748106 273 1092\n",
      "Pancreas 7.0068 -0.0254386835481 270 1080\n",
      "Pituitary 13.7 -0.440958910248 281 1130\n",
      "Prostate 13.618 0.0393878214668 280 1118\n",
      "Skin - Not Sun Exposed (Suprapubic) 13.0 -0.190385796349 278 1113\n",
      "Skin - Sun Exposed (Lower leg) 13.782 0.0544658470715 276 1101\n",
      "Small Intestine - Terminal Ileum 11.18 -0.275067683709 279 1117\n",
      "Spleen 14.35 -0.383806429668 271 1077\n",
      "Stomach 10.22 -0.426561912542 275 1101\n",
      "Testis 14.654 -0.656236198196 296 1183\n",
      "Thyroid 14.628 0.0634455333794 276 1102\n",
      "Uterus 15.39 0.106540754916 273 1093\n",
      "Vagina 13.31 0.157254105346 277 1109\n",
      "Whole Blood 6.707 -0.274261185956 241 979\n"
     ]
    }
   ],
   "source": [
    "col=\"zscore_1\"\n",
    "\n",
    "corr = []\n",
    "pvals = []\n",
    "means = []\n",
    "nums = []\n",
    "kspvals = []\n",
    "kspvals_ctrl = []\n",
    "threshold = 80 # top X% of expressed genes\n",
    "\n",
    "for tissue in exprcols:\n",
    "    r = pearsonr(data[data[tissue]>0][col], data[data[tissue]>0][tissue])\n",
    "    corr.append(r[0])\n",
    "    pvals.append(r[1])\n",
    "    means.append(np.mean(data[data[tissue]>0][col]))\n",
    "    nums.append(data[data[tissue]>0].shape[0])\n",
    "    \n",
    "    # zscores for top 10%\n",
    "    cutoff = np.percentile(data[data[tissue]>0][tissue], [threshold])[0]\n",
    "    zhigh = data[data[tissue]>0][data[tissue]>cutoff][col]\n",
    "    zlow = data[data[tissue]>0][data[tissue]<=cutoff][col]\n",
    "    print tissue, cutoff, np.mean(zhigh)-np.mean(zlow), len(zhigh), len(zlow), zhigh+zlow\n",
    "    #print data.shape[0], len(zhigh), len(zlow), len(zhigh)+len(zlow)\n",
    "    kspvals.append(ks_2samp(zhigh, zlow)[1])\n",
    "    \n",
    "    # Repeat, with expression shuffled\n",
    "    rexpr = data[tissue].copy()\n",
    "    random.shuffle(rexpr)\n",
    "    zhigh = data[rexpr>cutoff][col]\n",
    "    zlow = data[rexpr<=cutoff][col]\n",
    "    kspvals_ctrl.append(ks_2samp(zhigh, zlow)[1])    \n",
    "    \n",
    "cdata = pd.DataFrame({\"tissue\": exprcols, \"corr\": corr, \"pval\": pvals, \"meanz\": means,\"num\":nums,\n",
    "                      \"ksp\":kspvals, \"ksp_ctrl\": kspvals_ctrl})\n",
    "cdata[\"corr2\"] = cdata[\"corr\"].apply(lambda x: x**2)\n",
    "cdata = cdata[[\"tissue\",\"corr\",\"corr2\",\"pval\",\"meanz\",\"num\",\"ksp\",\"ksp_ctrl\"]]"
   ]
  },
  {
   "cell_type": "code",
   "execution_count": 18,
   "metadata": {
    "collapsed": false
   },
   "outputs": [
    {
     "data": {
      "image/png": "[encoded data removed]",
      "text/plain": [
       "<matplotlib.figure.Figure at 0x1073b8d10>"
      ]
     },
     "metadata": {},
     "output_type": "display_data"
    }
   ],
   "source": [
    "colors = {}\n",
    "for tissue in exprcols:\n",
    "    if \"Brain\" in tissue: colors[tissue] = \"red\"\n",
    "\n",
    "cdata[\"color\"] = cdata[\"tissue\"].apply(lambda x: colors.get(x, \"black\"))\n",
    "cdata = cdata.sort(\"ksp\", ascending=False)\n",
    "cdata[\"order\"] = range(cdata.shape[0])\n",
    "fig = plt.figure()\n",
    "fig.set_size_inches((5,10))\n",
    "ax = fig.add_subplot(111)\n",
    "ax.scatter(np.log10(cdata[\"ksp\"])*-1, cdata[\"order\"], color=cdata[\"color\"])\n",
    "ax.axvline(x=-1*np.log10(0.05), linestyle=\"dashed\", color=\"gray\")\n",
    "ax.set_ylim(bottom=-1, top=cdata.shape[0])\n",
    "ax.spines[\"top\"].set_visible(False);\n",
    "ax.spines[\"right\"].set_visible(False);\n",
    "ax.get_xaxis().tick_bottom();\n",
    "ax.get_yaxis().tick_left();\n",
    "ax.set_yticks(cdata[\"order\"])\n",
    "ax.set_yticklabels(cdata[\"tissue\"]);\n",
    "ax.set_xlabel(\"Constraint enrichment (-log10 P)\")\n",
    "fig.savefig(os.path.join(PLOTDIR, \"Figure4_ConstraintExpression.pdf\"))"
   ]
  },
  {
   "cell_type": "code",
   "execution_count": 19,
   "metadata": {
    "collapsed": false
   },
   "outputs": [
    {
     "data": {
      "image/png": "[encoded data removed]",
      "text/plain": [
       "<matplotlib.figure.Figure at 0x106d81d10>"
      ]
     },
     "metadata": {},
     "output_type": "display_data"
    }
   ],
   "source": [
    "cdata = cdata.sort(\"ksp_ctrl\")\n",
    "ctrl = -1*np.log10(cdata[\"ksp_ctrl\"])\n",
    "exp2 = -1*np.log10(sorted(np.random.uniform(size=cdata.shape[0])))\n",
    "cdata = cdata.sort(\"ksp\")\n",
    "exp = -1*np.log10(sorted(np.random.uniform(size=cdata.shape[0])))\n",
    "obs = -1*np.log10(cdata[\"ksp\"])\n",
    "fig = plt.figure()\n",
    "ax = fig.add_subplot(111)\n",
    "ax.scatter(exp, obs, color=cdata[\"color\"])\n",
    "ax.scatter(exp2, ctrl, color=\"gray\")\n",
    "ax.plot([0,2],[0,2], color=\"black\", linestyle=\"dashed\")\n",
    "ax.set_xlim(left=0, right=max(exp)+0.5)\n",
    "ax.set_ylim(bottom=0, top=max(obs)+0.5)\n",
    "ax.spines[\"top\"].set_visible(False);\n",
    "ax.spines[\"right\"].set_visible(False);\n",
    "ax.get_xaxis().tick_bottom();\n",
    "ax.get_yaxis().tick_left();\n",
    "ax.set_xlabel(\"Expected pval\", size=15)\n",
    "ax.set_ylabel(\"Observed pval\", size=15)\n",
    "ax.set_xticklabels(ax.get_xticks(), size=12)\n",
    "ax.set_yticklabels(ax.get_yticks(), size=12);\n",
    "fig.savefig(os.path.join(PLOTDIR, \"SupplementalFigure15_GTExQQ.pdf\"))"
   ]
  },
  {
   "cell_type": "markdown",
   "metadata": {},
   "source": [
    "# 4B Example loci - CODIS/disease/autism"
   ]
  },
  {
   "cell_type": "code",
   "execution_count": 20,
   "metadata": {
    "collapsed": false
   },
   "outputs": [
    {
     "name": "stderr",
     "output_type": "stream",
     "text": [
      "/usr/local/lib/python2.7/site-packages/ipykernel/__main__.py:43: SettingWithCopyWarning: \n",
      "A value is trying to be set on a copy of a slice from a DataFrame.\n",
      "Try using .loc[row_indexer,col_indexer] = value instead\n",
      "\n",
      "See the the caveats in the documentation: http://pandas.pydata.org/pandas-docs/stable/indexing.html#indexing-view-versus-copy\n",
      "/usr/local/lib/python2.7/site-packages/ipykernel/__main__.py:44: SettingWithCopyWarning: \n",
      "A value is trying to be set on a copy of a slice from a DataFrame.\n",
      "Try using .loc[row_indexer,col_indexer] = value instead\n",
      "\n",
      "See the the caveats in the documentation: http://pandas.pydata.org/pandas-docs/stable/indexing.html#indexing-view-versus-copy\n",
      "/usr/local/lib/python2.7/site-packages/ipykernel/__main__.py:45: SettingWithCopyWarning: \n",
      "A value is trying to be set on a copy of a slice from a DataFrame.\n",
      "Try using .loc[row_indexer,col_indexer] = value instead\n",
      "\n",
      "See the the caveats in the documentation: http://pandas.pydata.org/pandas-docs/stable/indexing.html#indexing-view-versus-copy\n"
     ]
    },
    {
     "data": {
      "image/png": "[encoded data removed]",
      "text/plain": [
       "<matplotlib.figure.Figure at 0x108b6e910>"
      ]
     },
     "metadata": {},
     "output_type": "display_data"
    }
   ],
   "source": [
    "# Load CODIS/disease loci\n",
    "\n",
    "col = \"zscore_1\"\n",
    "\n",
    "loci = pd.read_csv(os.path.join(DATAPATH, \"strsets\", \"loci_for_figure.bed\"), names=[\"chrom\",\"start\",\"end\",\"marker\"], sep=\"\\t\")\n",
    "loci = pd.merge(dataset, loci, on=[\"chrom\",\"start\",\"end\"])\n",
    "\n",
    "def GetColor(x):\n",
    "    if \"CODIS\" in x[\"marker\"]: return \"black\"\n",
    "    else: return \"blue\"\n",
    "\n",
    "def GetCat(x):\n",
    "    if \"CODIS\" in x[\"marker\"]: return \"A_CODIS\"\n",
    "    else: return \"C_DISEASE\"\n",
    "        \n",
    "loci = loci.sort(\"marker\")\n",
    "loci[\"color\"] = loci.apply(lambda x: GetColor(x), 1)\n",
    "loci[\"cat\"] = loci.apply(lambda x: GetCat(x), 1)\n",
    "loci = loci.sort(\"marker\")\n",
    "rm = loci[loci[\"start\"] == 45582231]\n",
    "loci = loci[loci[\"start\"] != 45582231]\n",
    "loci = pd.concat([loci, rm.iloc[0:1,:]])\n",
    "loci[\"gene\"] = \"NA\"\n",
    "\n",
    "# Load marshfield\n",
    "#marsh = pd.read_csv(os.path.join(DATAPATH, \"strsets\",\"marshfield_loci.bed\"), names=[\"chrom\",\"start\",\"end\",\"period\",\"marker\"], sep=\"\\t\")\n",
    "#marsh = pd.merge(dataset, marsh, on=[\"chrom\",\"start\",\"end\"])\n",
    "#marsh[\"color\"] = \"purple\"\n",
    "#marsh[\"gene\"] = \"NA\"\n",
    "#marsh[\"marker\"] = marsh[\"marker\"].apply(lambda x: \"B_Marshfield:%s\"%x)\n",
    "#loci = pd.concat([loci, marsh])\n",
    "\n",
    "# Load autism\n",
    "coding = pd.read_csv(os.path.join(DATAPATH, \"strsets\", \"lobSTR_ref_GRCh37_coding_genes.bed.gz\"), sep=\"\\t\", names=[\"chrom\",\"start\",\"end\",\"gene\"])\n",
    "coding = pd.merge(coding, dataset, on=[\"chrom\",\"start\",\"end\"]).drop_duplicates()\n",
    "#coding = coding[coding[\"gene\"].apply(lambda x: \".\" not in x and \"-AS\" not in x)]\n",
    "autism = (pd.read_csv(os.path.join(DATAPATH, \"strsets\",\"autism_sfari_genes_bycategory.csv\")))\n",
    "autism[\"gene\"] = autism[\"Gene Symbol\"]\n",
    "\n",
    "for category in [\"1\",\"2\"]: #,\"3\",\"4\",\"5\"]:\n",
    "    autism_genes = set(autism[autism[\"category\"].apply(lambda x: category in str(x))][\"Gene Symbol\"])\n",
    "    newloci = coding[coding.apply(lambda x: x[\"gene\"] in autism_genes, 1)]\n",
    "    newloci[\"cat\"] = \"D_Autism:%s\"%category\n",
    "    newloci[\"color\"] = \"blue\"\n",
    "    newloci[\"marker\"] = newloci[\"gene\"]\n",
    "    #loci = pd.concat([loci, newloci])\n",
    "\n",
    "# Add top and bottom to list\n",
    "coding[\"cat\"] = \"E_coding\"\n",
    "coding[\"marker\"] = coding[\"gene\"]\n",
    "coding[\"color\"] = \"green\"\n",
    "#loci = pd.concat([loci, coding.sort(\"diff_1\").head(n=5)])\n",
    "#loci = pd.concat([loci, coding.sort(\"diff_1\").tail(n=5)])\n",
    "    \n",
    "loci = loci.sort([\"cat\",col], ascending=False)\n",
    "fig = plt.figure()\n",
    "fig.set_size_inches((5, 10))\n",
    "ax = fig.add_subplot(111)\n",
    "ax.barh(range(loci.shape[0]), loci[\"zscore_1\"], color=loci[\"color\"])\n",
    "ax.spines[\"top\"].set_visible(False);\n",
    "ax.spines[\"right\"].set_visible(False);\n",
    "ax.get_xaxis().tick_bottom();\n",
    "ax.get_yaxis().tick_left();\n",
    "ax.axvline(0, linestyle=\"dashed\", color=\"gray\")\n",
    "ax.set_ylim(bottom=-1, top=loci.shape[0]);\n",
    "ax.set_yticks(range(loci.shape[0]));\n",
    "ax.set_yticklabels(loci[\"marker\"], size=12);\n",
    "ax.set_xlabel(\"Zscore\", size=15);\n",
    "fig.savefig(os.path.join(PLOTDIR, \"Figure4_ConstraintExamples.pdf\"))"
   ]
  },
  {
   "cell_type": "code",
   "execution_count": 21,
   "metadata": {
    "collapsed": false
   },
   "outputs": [
    {
     "data": {
      "image/png": "[encoded data removed]",
      "text/plain": [
       "<matplotlib.figure.Figure at 0x10320b510>"
      ]
     },
     "metadata": {},
     "output_type": "display_data"
    },
    {
     "data": {
      "image/png": "[encoded data removed]",
      "text/plain": [
       "<matplotlib.figure.Figure at 0x108cb9550>"
      ]
     },
     "metadata": {},
     "output_type": "display_data"
    },
    {
     "data": {
      "image/png": "[encoded data removed]",
      "text/plain": [
       "<matplotlib.figure.Figure at 0x10863a4d0>"
      ]
     },
     "metadata": {},
     "output_type": "display_data"
    }
   ],
   "source": [
    "starts = [45390419, 63898361, 30417141]\n",
    "colors = [\"blue\",\"blue\",\"black\"]\n",
    "xvals = np.arange(-8, -1, 0.1)\n",
    "\n",
    "for i in range(len(starts)):\n",
    "    x = loci[loci[\"start\"]==starts[i]]\n",
    "    color = colors[i]\n",
    "    \n",
    "    obs_mu = x[\"ml_mu\"].values[0]\n",
    "    obs_mu_se = x[\"ml_mu_stderr\"].values[0]\n",
    "    if obs_mu_se <= 0: obs_mu_se = 0.001\n",
    "    exp_mu = x[\"pred_mu_1\"].values[0]\n",
    "    exp_mu_se = x[\"pred_mu_se_1\"].values[0]\n",
    "    \n",
    "    obs = np.random.normal(loc=obs_mu, scale=obs_mu_se, size=10000)\n",
    "    exp = np.random.normal(loc=exp_mu, scale=exp_mu_se, size=10000)\n",
    "\n",
    "    fig = plt.figure()\n",
    "    ax = fig.add_subplot(111)\n",
    "    ax.hist(obs, bins=xvals, color=color, lw=1, normed=True);\n",
    "    ax.hist(exp, bins=xvals, color=\"white\", lw=1, edgecolor=\"black\", normed=True, alpha=0.5);\n",
    "    ax.spines[\"top\"].set_visible(False);\n",
    "    ax.spines[\"right\"].set_visible(False);\n",
    "    ax.get_xaxis().tick_bottom();\n",
    "    ax.get_yaxis().tick_left();\n",
    "    ax.set_xticklabels(ax.get_xticks(), size=12)\n",
    "    ax.set_yticklabels(ax.get_yticks(), size=12)\n",
    "    ax.set_xlabel(\"Log10 mutation rate\", size=15)\n",
    "    ax.set_ylabel(\"Frequency\", size=15);\n",
    "    fig.savefig(os.path.join(PLOTDIR, \"Figure4_Example_%s.pdf\"%starts[i]))"
   ]
  },
  {
   "cell_type": "code",
   "execution_count": 29,
   "metadata": {
    "collapsed": false
   },
   "outputs": [
    {
     "data": {
      "text/html": [
       "<div>\n",
       "<table border=\"1\" class=\"dataframe\">\n",
       "  <thead>\n",
       "    <tr style=\"text-align: right;\">\n",
       "      <th></th>\n",
       "      <th>chrom</th>\n",
       "      <th>start</th>\n",
       "      <th>end</th>\n",
       "      <th>ml_mu</th>\n",
       "      <th>ml_mu_stderr</th>\n",
       "      <th>motif</th>\n",
       "      <th>uninterrupted_length</th>\n",
       "      <th>pred_mu_1</th>\n",
       "      <th>pred_mu_se_1</th>\n",
       "      <th>pred_mu_2</th>\n",
       "      <th>...</th>\n",
       "      <th>filter2</th>\n",
       "      <th>zscore_1</th>\n",
       "      <th>zscore_2</th>\n",
       "      <th>diff_1</th>\n",
       "      <th>diff_2</th>\n",
       "      <th>diff_3</th>\n",
       "      <th>marker</th>\n",
       "      <th>color</th>\n",
       "      <th>cat</th>\n",
       "      <th>gene</th>\n",
       "    </tr>\n",
       "  </thead>\n",
       "  <tbody>\n",
       "    <tr>\n",
       "      <th>19</th>\n",
       "      <td>6</td>\n",
       "      <td>45390487</td>\n",
       "      <td>45390531</td>\n",
       "      <td>-6.001144</td>\n",
       "      <td>1.858261</td>\n",
       "      <td>CCG</td>\n",
       "      <td>17</td>\n",
       "      <td>-4.648554</td>\n",
       "      <td>0.386377</td>\n",
       "      <td>-6.650425</td>\n",
       "      <td>...</td>\n",
       "      <td>False</td>\n",
       "      <td>-1.007822</td>\n",
       "      <td>0.433945</td>\n",
       "      <td>-1.352589</td>\n",
       "      <td>0.649281</td>\n",
       "      <td>-1.284843</td>\n",
       "      <td>RUNX2</td>\n",
       "      <td>blue</td>\n",
       "      <td>C_DISEASE</td>\n",
       "      <td>NA</td>\n",
       "    </tr>\n",
       "    <tr>\n",
       "      <th>18</th>\n",
       "      <td>6</td>\n",
       "      <td>45390419</td>\n",
       "      <td>45390484</td>\n",
       "      <td>-7.620128</td>\n",
       "      <td>-9.144153</td>\n",
       "      <td>AGC</td>\n",
       "      <td>20</td>\n",
       "      <td>-4.531046</td>\n",
       "      <td>0.386372</td>\n",
       "      <td>-6.254803</td>\n",
       "      <td>...</td>\n",
       "      <td>False</td>\n",
       "      <td>-11.306767</td>\n",
       "      <td>-1.907859</td>\n",
       "      <td>-3.089082</td>\n",
       "      <td>-1.365324</td>\n",
       "      <td>-3.042417</td>\n",
       "      <td>RUNX2</td>\n",
       "      <td>blue</td>\n",
       "      <td>C_DISEASE</td>\n",
       "      <td>NA</td>\n",
       "    </tr>\n",
       "  </tbody>\n",
       "</table>\n",
       "<p>2 rows × 23 columns</p>\n",
       "</div>"
      ],
      "text/plain": [
       "    chrom     start       end     ml_mu  ml_mu_stderr motif  \\\n",
       "19      6  45390487  45390531 -6.001144      1.858261   CCG   \n",
       "18      6  45390419  45390484 -7.620128     -9.144153   AGC   \n",
       "\n",
       "    uninterrupted_length  pred_mu_1  pred_mu_se_1  pred_mu_2 ...   filter2  \\\n",
       "19                    17  -4.648554      0.386377  -6.650425 ...     False   \n",
       "18                    20  -4.531046      0.386372  -6.254803 ...     False   \n",
       "\n",
       "     zscore_1  zscore_2    diff_1    diff_2    diff_3  marker  color  \\\n",
       "19  -1.007822  0.433945 -1.352589  0.649281 -1.284843   RUNX2   blue   \n",
       "18 -11.306767 -1.907859 -3.089082 -1.365324 -3.042417   RUNX2   blue   \n",
       "\n",
       "          cat gene  \n",
       "19  C_DISEASE   NA  \n",
       "18  C_DISEASE   NA  \n",
       "\n",
       "[2 rows x 23 columns]"
      ]
     },
     "execution_count": 29,
     "metadata": {},
     "output_type": "execute_result"
    }
   ],
   "source": [
    "loci[loci[\"marker\"]==\"RUNX2\"]"
   ]
  },
  {
   "cell_type": "markdown",
   "metadata": {},
   "source": [
    "# GO analysis"
   ]
  },
  {
   "cell_type": "code",
   "execution_count": 22,
   "metadata": {
    "collapsed": false
   },
   "outputs": [
    {
     "name": "stdout",
     "output_type": "stream",
     "text": [
      "  EXISTS: go-basic.obo\n",
      "  EXISTS: gene2go\n",
      "load obo file go-basic.obo\n",
      "go-basic.obo: fmt(1.2) rel(2016-11-26) 47,820 GO Terms\n"
     ]
    }
   ],
   "source": [
    "# Download files\n",
    "from goatools.base import download_go_basic_obo\n",
    "from goatools.base import download_ncbi_associations\n",
    "from goatools.obo_parser import GODag\n",
    "from goatools.associations import read_ncbi_gene2go\n",
    "from goatools.go_enrichment import GOEnrichmentStudy\n",
    "obo_fname = download_go_basic_obo()\n",
    "gene2go = download_ncbi_associations()\n",
    "\n",
    "# Load data\n",
    "obodag = GODag(\"go-basic.obo\")\n",
    "geneid2gos_human = read_ncbi_gene2go(\"gene2go\", taxids=[9606])\n",
    "\n",
    "# Load coding\n",
    "coding = pd.read_csv(os.path.join(DATAPATH, \"strsets\", \"lobSTR_ref_GRCh37_coding_genes.bed.gz\"), sep=\"\\t\", names=[\"chrom\",\"start\",\"end\",\"gene\"])\n",
    "coding = pd.merge(coding, dataset, on=[\"chrom\",\"start\",\"end\"]).drop_duplicates()"
   ]
  },
  {
   "cell_type": "code",
   "execution_count": 23,
   "metadata": {
    "collapsed": false
   },
   "outputs": [],
   "source": [
    "sys.path.append(\"/Users/gymrek/workspace/goatools/goatools/test_data/\")\n",
    "from genes_NCBI_9606_ProteinCoding import GeneID2nt\n",
    "geneSymbolToID = {}\n",
    "strgenes = set(coding[\"gene\"])\n",
    "for geneid in GeneID2nt.keys():\n",
    "    nt = GeneID2nt.get(geneid)\n",
    "    symbol = nt.Symbol\n",
    "    if symbol in strgenes:\n",
    "        geneSymbolToID[symbol] = geneid\n",
    "background_ids = geneSymbolToID.values()\n",
    "all_human_ids = GeneID2nt.keys()\n",
    "coding[\"geneid\"] = coding[\"gene\"].apply(lambda x: geneSymbolToID.get(x, -1))"
   ]
  },
  {
   "cell_type": "code",
   "execution_count": 24,
   "metadata": {
    "collapsed": false
   },
   "outputs": [
    {
     "name": "stdout",
     "output_type": "stream",
     "text": [
      "fisher module not installed.  Falling back on scipy.stats.fisher_exact\n"
     ]
    },
    {
     "name": "stderr",
     "output_type": "stream",
     "text": [
      "Propagating term counts to parents ..\n"
     ]
    },
    {
     "name": "stdout",
     "output_type": "stream",
     "text": [
      "18,332 out of 20,913 population items found in association\n",
      "Calculating uncorrected p-values using fisher_scipy_stats\n",
      " 1,082 out of  1,133 study items found in association\n",
      "Running multitest correction: statsmodels fdr_bh\n",
      "  8,205 GO terms are associated with 1,082 of 1,133 study items\n",
      "  20,916 GO terms are associated with 18,332 of 20,913 population items\n",
      "  20916 items WROTE: all_str_genes.txt\n"
     ]
    }
   ],
   "source": [
    "# Enrichment of STR genes in general\n",
    "goeaobj = GOEnrichmentStudy(\n",
    "        all_human_ids, # List of human protein-coding genes\n",
    "        geneid2gos_human, # geneid/GO associations\n",
    "        obodag, # Ontologies\n",
    "        propagate_counts = True,\n",
    "        alpha = 0.05, # default significance cut-off\n",
    "        methods = ['fdr_bh']) # defult multipletest correction method\n",
    "goea_results_all = goeaobj.run_study(background_ids)\n",
    "goeaobj.wr_txt(\"all_str_genes.txt\", goea_results_all)"
   ]
  },
  {
   "cell_type": "code",
   "execution_count": 25,
   "metadata": {
    "collapsed": false
   },
   "outputs": [
    {
     "name": "stdout",
     "output_type": "stream",
     "text": [
      "fisher module not installed.  Falling back on scipy.stats.fisher_exact\n"
     ]
    },
    {
     "name": "stderr",
     "output_type": "stream",
     "text": [
      "Propagating term counts to parents ..\n"
     ]
    },
    {
     "name": "stdout",
     "output_type": "stream",
     "text": [
      " 1,082 out of  1,133 population items found in association\n"
     ]
    }
   ],
   "source": [
    "# Initialize GOEA object\n",
    "goeaobj = GOEnrichmentStudy(\n",
    "        background_ids, # List of human protein-coding genes\n",
    "        geneid2gos_human, # geneid/GO associations\n",
    "        obodag, # Ontologies\n",
    "        propagate_counts = True,\n",
    "        alpha = 0.05, # default significance cut-off\n",
    "        methods = ['fdr_bh']) # defult multipletest correction method"
   ]
  },
  {
   "cell_type": "code",
   "execution_count": 31,
   "metadata": {
    "collapsed": false
   },
   "outputs": [],
   "source": [
    "coding = pd.read_csv(os.path.join(DATAPATH, \"strsets\", \"lobSTR_ref_GRCh37_coding_genes.bed.gz\"), sep=\"\\t\", names=[\"chrom\",\"start\",\"end\",\"gene\"])\n",
    "coding = pd.merge(coding, dataset, on=[\"chrom\",\"start\",\"end\"]).drop_duplicates()"
   ]
  },
  {
   "cell_type": "code",
   "execution_count": 40,
   "metadata": {
    "collapsed": false
   },
   "outputs": [
    {
     "data": {
      "text/html": [
       "<div>\n",
       "<table border=\"1\" class=\"dataframe\">\n",
       "  <thead>\n",
       "    <tr style=\"text-align: right;\">\n",
       "      <th></th>\n",
       "      <th>chrom</th>\n",
       "      <th>start</th>\n",
       "      <th>motif</th>\n",
       "      <th>gene</th>\n",
       "      <th>zscore_1</th>\n",
       "    </tr>\n",
       "  </thead>\n",
       "  <tbody>\n",
       "    <tr>\n",
       "      <th>1679</th>\n",
       "      <td>18</td>\n",
       "      <td>19752073</td>\n",
       "      <td>ACC</td>\n",
       "      <td>GATA6</td>\n",
       "      <td>-12.883983</td>\n",
       "    </tr>\n",
       "    <tr>\n",
       "      <th>302</th>\n",
       "      <td>2</td>\n",
       "      <td>5833526</td>\n",
       "      <td>ACG</td>\n",
       "      <td>SOX11</td>\n",
       "      <td>-12.597263</td>\n",
       "    </tr>\n",
       "    <tr>\n",
       "      <th>1479</th>\n",
       "      <td>14</td>\n",
       "      <td>99641544</td>\n",
       "      <td>AGG</td>\n",
       "      <td>BCL11B</td>\n",
       "      <td>-12.310521</td>\n",
       "    </tr>\n",
       "    <tr>\n",
       "      <th>1632</th>\n",
       "      <td>17</td>\n",
       "      <td>40345560</td>\n",
       "      <td>AGC</td>\n",
       "      <td>GHDC</td>\n",
       "      <td>-12.023768</td>\n",
       "    </tr>\n",
       "    <tr>\n",
       "      <th>1667</th>\n",
       "      <td>17</td>\n",
       "      <td>71205859</td>\n",
       "      <td>AGC</td>\n",
       "      <td>FAM104A</td>\n",
       "      <td>-12.023767</td>\n",
       "    </tr>\n",
       "    <tr>\n",
       "      <th>2041</th>\n",
       "      <td>8</td>\n",
       "      <td>28209226</td>\n",
       "      <td>AGC</td>\n",
       "      <td>ZNF395</td>\n",
       "      <td>-12.023764</td>\n",
       "    </tr>\n",
       "    <tr>\n",
       "      <th>694</th>\n",
       "      <td>3</td>\n",
       "      <td>129546680</td>\n",
       "      <td>AGC</td>\n",
       "      <td>TMCC1</td>\n",
       "      <td>-11.880383</td>\n",
       "    </tr>\n",
       "    <tr>\n",
       "      <th>1820</th>\n",
       "      <td>19</td>\n",
       "      <td>51961617</td>\n",
       "      <td>AGC</td>\n",
       "      <td>SIGLEC8</td>\n",
       "      <td>-11.880382</td>\n",
       "    </tr>\n",
       "    <tr>\n",
       "      <th>540</th>\n",
       "      <td>2</td>\n",
       "      <td>237076427</td>\n",
       "      <td>CCG</td>\n",
       "      <td>GBX2</td>\n",
       "      <td>-11.880378</td>\n",
       "    </tr>\n",
       "    <tr>\n",
       "      <th>418</th>\n",
       "      <td>2</td>\n",
       "      <td>105472776</td>\n",
       "      <td>ACC</td>\n",
       "      <td>POU3F3</td>\n",
       "      <td>-11.880376</td>\n",
       "    </tr>\n",
       "  </tbody>\n",
       "</table>\n",
       "</div>"
      ],
      "text/plain": [
       "      chrom      start motif     gene   zscore_1\n",
       "1679     18   19752073   ACC    GATA6 -12.883983\n",
       "302       2    5833526   ACG    SOX11 -12.597263\n",
       "1479     14   99641544   AGG   BCL11B -12.310521\n",
       "1632     17   40345560   AGC     GHDC -12.023768\n",
       "1667     17   71205859   AGC  FAM104A -12.023767\n",
       "2041      8   28209226   AGC   ZNF395 -12.023764\n",
       "694       3  129546680   AGC    TMCC1 -11.880383\n",
       "1820     19   51961617   AGC  SIGLEC8 -11.880382\n",
       "540       2  237076427   CCG     GBX2 -11.880378\n",
       "418       2  105472776   ACC   POU3F3 -11.880376"
      ]
     },
     "execution_count": 40,
     "metadata": {},
     "output_type": "execute_result"
    }
   ],
   "source": [
    "coding = coding[coding[\"gene\"].apply(lambda x: \".\" not in x)]\n",
    "coding.sort(\"zscore_1\")[[\"chrom\",\"start\",\"motif\",\"gene\",\"zscore_1\"]].head(n=10)"
   ]
  },
  {
   "cell_type": "code",
   "execution_count": 42,
   "metadata": {
    "collapsed": false
   },
   "outputs": [
    {
     "data": {
      "text/html": [
       "<div>\n",
       "<table border=\"1\" class=\"dataframe\">\n",
       "  <thead>\n",
       "    <tr style=\"text-align: right;\">\n",
       "      <th></th>\n",
       "      <th>chrom</th>\n",
       "      <th>start</th>\n",
       "      <th>motif</th>\n",
       "      <th>gene</th>\n",
       "      <th>zscore_1</th>\n",
       "    </tr>\n",
       "  </thead>\n",
       "  <tbody>\n",
       "    <tr>\n",
       "      <th>2078</th>\n",
       "      <td>9</td>\n",
       "      <td>35561913</td>\n",
       "      <td>ACCC</td>\n",
       "      <td>FAM166B</td>\n",
       "      <td>2.783935</td>\n",
       "    </tr>\n",
       "    <tr>\n",
       "      <th>1152</th>\n",
       "      <td>10</td>\n",
       "      <td>21805467</td>\n",
       "      <td>AGG</td>\n",
       "      <td>SKIDA1</td>\n",
       "      <td>2.970820</td>\n",
       "    </tr>\n",
       "    <tr>\n",
       "      <th>924</th>\n",
       "      <td>5</td>\n",
       "      <td>112824025</td>\n",
       "      <td>AGC</td>\n",
       "      <td>MCC</td>\n",
       "      <td>4.092337</td>\n",
       "    </tr>\n",
       "    <tr>\n",
       "      <th>34</th>\n",
       "      <td>1</td>\n",
       "      <td>17026022</td>\n",
       "      <td>CCG</td>\n",
       "      <td>ESPNP</td>\n",
       "      <td>4.208970</td>\n",
       "    </tr>\n",
       "    <tr>\n",
       "      <th>1404</th>\n",
       "      <td>13</td>\n",
       "      <td>25671799</td>\n",
       "      <td>AGC</td>\n",
       "      <td>PABPC3</td>\n",
       "      <td>4.986086</td>\n",
       "    </tr>\n",
       "    <tr>\n",
       "      <th>558</th>\n",
       "      <td>3</td>\n",
       "      <td>18391133</td>\n",
       "      <td>AGC</td>\n",
       "      <td>SATB1</td>\n",
       "      <td>5.179028</td>\n",
       "    </tr>\n",
       "    <tr>\n",
       "      <th>559</th>\n",
       "      <td>3</td>\n",
       "      <td>18391133</td>\n",
       "      <td>AGC</td>\n",
       "      <td>TBC1D5</td>\n",
       "      <td>5.179028</td>\n",
       "    </tr>\n",
       "    <tr>\n",
       "      <th>1753</th>\n",
       "      <td>19</td>\n",
       "      <td>39019599</td>\n",
       "      <td>AGG</td>\n",
       "      <td>RYR1</td>\n",
       "      <td>8.354111</td>\n",
       "    </tr>\n",
       "    <tr>\n",
       "      <th>1162</th>\n",
       "      <td>10</td>\n",
       "      <td>29821971</td>\n",
       "      <td>AAG</td>\n",
       "      <td>SVIL</td>\n",
       "      <td>9.356209</td>\n",
       "    </tr>\n",
       "    <tr>\n",
       "      <th>1979</th>\n",
       "      <td>7</td>\n",
       "      <td>73462847</td>\n",
       "      <td>AGC</td>\n",
       "      <td>ELN</td>\n",
       "      <td>10.085285</td>\n",
       "    </tr>\n",
       "    <tr>\n",
       "      <th>1274</th>\n",
       "      <td>11</td>\n",
       "      <td>73020369</td>\n",
       "      <td>AGG</td>\n",
       "      <td>ARHGEF17</td>\n",
       "      <td>14.040791</td>\n",
       "    </tr>\n",
       "  </tbody>\n",
       "</table>\n",
       "</div>"
      ],
      "text/plain": [
       "      chrom      start motif      gene   zscore_1\n",
       "2078      9   35561913  ACCC   FAM166B   2.783935\n",
       "1152     10   21805467   AGG    SKIDA1   2.970820\n",
       "924       5  112824025   AGC       MCC   4.092337\n",
       "34        1   17026022   CCG     ESPNP   4.208970\n",
       "1404     13   25671799   AGC    PABPC3   4.986086\n",
       "558       3   18391133   AGC     SATB1   5.179028\n",
       "559       3   18391133   AGC    TBC1D5   5.179028\n",
       "1753     19   39019599   AGG      RYR1   8.354111\n",
       "1162     10   29821971   AAG      SVIL   9.356209\n",
       "1979      7   73462847   AGC       ELN  10.085285\n",
       "1274     11   73020369   AGG  ARHGEF17  14.040791"
      ]
     },
     "execution_count": 42,
     "metadata": {},
     "output_type": "execute_result"
    }
   ],
   "source": [
    "coding.sort(\"zscore_1\")[[\"chrom\",\"start\",\"motif\",\"gene\",\"zscore_1\"]].tail(n=11)"
   ]
  }
 ],
 "metadata": {
  "kernelspec": {
   "display_name": "Python 2",
   "language": "python",
   "name": "python2"
  },
  "language_info": {
   "codemirror_mode": {
    "name": "ipython",
    "version": 2
   },
   "file_extension": ".py",
   "mimetype": "text/x-python",
   "name": "python",
   "nbconvert_exporter": "python",
   "pygments_lexer": "ipython2",
   "version": "2.7.10"
  }
 },
 "nbformat": 4,
 "nbformat_minor": 0
}
